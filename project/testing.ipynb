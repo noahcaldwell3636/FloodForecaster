{
 "metadata": {
  "language_info": {
   "codemirror_mode": {
    "name": "ipython",
    "version": 3
   },
   "file_extension": ".py",
   "mimetype": "text/x-python",
   "name": "python",
   "nbconvert_exporter": "python",
   "pygments_lexer": "ipython3",
   "version": "3.7.4-final"
  },
  "orig_nbformat": 2,
  "kernelspec": {
   "name": "virtualenv",
   "display_name": "Python noahs_env"
  }
 },
 "nbformat": 4,
 "nbformat_minor": 2,
 "cells": [
  {
   "cell_type": "code",
   "execution_count": 8,
   "metadata": {},
   "outputs": [],
   "source": [
    "# get dataframes of flood levels\n",
    "from helper_methods import *\n",
    "xml_root = get_xml_root('https://water.weather.gov/ahps2/hydrograph_to_xml.php?gage=rmdv2&output=xml')\n",
    "forecast_data = get_flood_data(xml_root, 'forecast')\n",
    "observed_data = get_flood_data(xml_root, 'observed')\n",
    "\n",
    "# flood data\n",
    "time = list(forecast_data['Time'])\n",
    "levels = list(forecast_data['Level'])\n",
    "time_adjusted = fill_missing_time(time)\n",
    "levels_adjusted = fill_missing_levels(levels)\n",
    "# work\n",
    "\n"
   ]
  },
  {
   "cell_type": "code",
   "execution_count": null,
   "metadata": {},
   "outputs": [],
   "source": []
  }
 ]
}
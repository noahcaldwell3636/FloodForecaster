{
 "metadata": {
  "language_info": {
   "codemirror_mode": {
    "name": "ipython",
    "version": 3
   },
   "file_extension": ".py",
   "mimetype": "text/x-python",
   "name": "python",
   "nbconvert_exporter": "python",
   "pygments_lexer": "ipython3",
   "version": "3.7.4-final"
  },
  "orig_nbformat": 2,
  "kernelspec": {
   "name": "Python 3.7.4 32-bit ('virtualenv')",
   "display_name": "Python 3.7.4 32-bit ('virtualenv')",
   "metadata": {
    "interpreter": {
     "hash": "d26c971e50df251dbb3cb5b69c68ad063c82ea243909c2d60001d3c9d954e19d"
    }
   }
  }
 },
 "nbformat": 4,
 "nbformat_minor": 2,
 "cells": [
  {
   "cell_type": "code",
   "execution_count": 1,
   "metadata": {},
   "outputs": [],
   "source": [
    "# to set up new kernel for notebook:\n",
    "# https://stackoverflow.com/questions/58119823/jupyter-notebooks-in-vscode-does-not-use-active-virtual-environment\n",
    "\n",
    "# python3 -m ipykernel install --user --name=projectnam\n",
    "\n",
    "\n",
    "# get dataframes of flood levels\n",
    "from helper_methods import *\n",
    "xml_root = get_xml_root('https://water.weather.gov/ahps2/hydrograph_to_xml.php?gage=rmdv2&output=xml')\n",
    "observed_data = get_flood_data(xml_root, 'observed')\n",
    "filled_forecast_data = get_flood_data(xml_root, 'forecast')\n",
    "\n",
    "result = bridge_obs_to_fore(observed_data, filled_forecast_data, patch_to_forecasted=True)\n"
   ]
  },
  {
   "cell_type": "code",
   "execution_count": null,
   "metadata": {},
   "outputs": [],
   "source": []
  }
 ]
}
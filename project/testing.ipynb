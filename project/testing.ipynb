{
 "metadata": {
  "language_info": {
   "codemirror_mode": {
    "name": "ipython",
    "version": 3
   },
   "file_extension": ".py",
   "mimetype": "text/x-python",
   "name": "python",
   "nbconvert_exporter": "python",
   "pygments_lexer": "ipython3",
   "version": "3.7.4-final"
  },
  "orig_nbformat": 2,
  "kernelspec": {
   "name": "Python 3.7.4 32-bit ('virtualenv')",
   "display_name": "Python 3.7.4 32-bit ('virtualenv')",
   "metadata": {
    "interpreter": {
     "hash": "d26c971e50df251dbb3cb5b69c68ad063c82ea243909c2d60001d3c9d954e19d"
    }
   }
  }
 },
 "nbformat": 4,
 "nbformat_minor": 2,
 "cells": [
  {
   "cell_type": "code",
   "execution_count": 1,
   "metadata": {},
   "outputs": [
    {
     "output_type": "stream",
     "name": "stdout",
     "text": [
      "                   Time Level\n0   2020-10-15 18:45:00  5.73\n1   2020-10-15 19:00:00  5.72\n2   2020-10-15 19:15:00  5.72\n3   2020-10-15 19:30:00  5.71\n4   2020-10-15 19:45:00  5.70\n..                  ...   ...\n183 2020-10-17 16:30:00  5.65\n184 2020-10-17 16:45:00  5.64\n185 2020-10-17 17:00:00  5.64\n186 2020-10-17 17:15:00  5.64\n187 2020-10-17 17:30:00  5.64\n\n[188 rows x 2 columns]\n       Level                    Time\n0    5.63077  2020-10-17 05:45:00 PM\n1    5.62154  2020-10-17 06:00:00 PM\n2    5.61231  2020-10-17 06:15:00 PM\n3    5.60308  2020-10-17 06:30:00 PM\n4    5.59385  2020-10-17 06:45:00 PM\n..       ...                     ...\n236      5.0  2020-10-20 08:45:00 AM\n237      5.0  2020-10-20 09:00:00 AM\n238      5.0  2020-10-20 09:15:00 AM\n239      5.0  2020-10-20 09:30:00 AM\n240      5.0  2020-10-20 09:45:00 AM\n\n[266 rows x 2 columns]\n                       Time Level\n0    2020-10-18 12:00:00 AM   5.4\n1    2020-10-18 12:15:00 AM   5.4\n2    2020-10-18 12:30:00 AM   5.4\n3    2020-10-18 12:45:00 AM   5.4\n4    2020-10-18 01:00:00 AM   5.4\n..                      ...   ...\n236  2020-10-20 08:45:00 AM   5.0\n237  2020-10-20 09:00:00 AM   5.0\n238  2020-10-20 09:15:00 AM   5.0\n239  2020-10-20 09:30:00 AM   5.0\n240  2020-10-20 09:45:00 AM   5.0\n\n[241 rows x 2 columns]\n"
     ]
    }
   ],
   "source": [
    "# to set up new kernel for notebook:\n",
    "# https://stackoverflow.com/questions/58119823/jupyter-notebooks-in-vscode-does-not-use-active-virtual-environment\n",
    "\n",
    "# python3 -m ipykernel install --user --name=projectnam\n",
    "\n",
    "\n",
    "# get dataframes of flood levels\n",
    "from helper_methods import *\n",
    "xml_root = get_xml_root('https://water.weather.gov/ahps2/hydrograph_to_xml.php?gage=rmdv2&output=xml')\n",
    "observed_data = get_flood_data(xml_root, 'observed')\n",
    "forecast_data = get_flood_data(xml_root, 'forecast')\n",
    "forecast_data = bridge_to_fore(observed_data, forecast_data)\n",
    "\n",
    "print(observed_data)\n",
    "print(bridge_data)\n",
    "print(forecast_data)\n"
   ]
  },
  {
   "cell_type": "code",
   "execution_count": null,
   "metadata": {},
   "outputs": [],
   "source": [
    "import dash\n",
    "import dash_html_components as html\n",
    "import plotly\n",
    "from dash.dependencies import Input, Output\n",
    "# MY IMPORTS\n",
    "from helper_methods import *\n",
    "from layout import *\n",
    "\n",
    "\n",
    "\n",
    "##################################################################################\n",
    "##################################_LAYOUT_########################################\n",
    "##################################################################################\n",
    "# Create App\n",
    "\n",
    "app = dash.Dash(__name__)\n",
    "app.layout = html.Div(\n",
    "    html.Div([\n",
    "        html.H4('James River Flood Forecast'),\n",
    "        html.Div(id='live-update-text'),\n",
    "        create_flood_graph(\n",
    "            observed_df=get_observed_data(),\n",
    "            forecast_df=get_forecast_data(),\n",
    "        ),\n",
    "        create_flood_interval(15)\n",
    "    ])\n",
    ")\n",
    "\n",
    "if __name__ == '__main__':\n",
    "    app.run_server(debug=True,port=6969)\n",
    "    app.run_server(debug=True, dev_tools_silence_routes_logging = False)\n",
    "    app.run_server(debug=True)\n"
   ]
  }
 ]
}